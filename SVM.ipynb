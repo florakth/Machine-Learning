{
 "cells": [
  {
   "cell_type": "code",
   "execution_count": 1,
   "metadata": {},
   "outputs": [],
   "source": [
    "import random, math\n",
    "import numpy as np\n",
    "from scipy.optimize import minimize\n",
    "import matplotlib.pyplot as plt"
   ]
  },
  {
   "cell_type": "code",
   "execution_count": 2,
   "metadata": {},
   "outputs": [],
   "source": [
    "np.random.seed(1000)\n",
    "'''\n",
    "## TEST DATA\n",
    "classA = np.concatenate(\n",
    "(np.random.randn(10, 2)*0.3 + [1.5, 0.5],\n",
    " np.random.randn(10, 2)*0.7 + [-1.5, 0.5]))\n",
    "\n",
    "classB = np.random.randn(10, 2)*0.5 + [0, 1]\n",
    "'''\n",
    "\n",
    "classA = np.concatenate(\n",
    "(np.random.randn(10, 2)*0.2 + [1.5, 0.5],\n",
    " np.random.randn(10, 2)*0.2 + [-1.5, 0.5]))\n",
    "\n",
    "classB = np.random.randn(10, 2)*0.2 +[0.0, -0.5]\n",
    "\n",
    "\n",
    "inputs = np.concatenate((classA, classB))\n",
    "\n",
    "targets = np.concatenate((np.ones(classA.shape[0]), -np.ones(classB.shape[0])))\n",
    "\n",
    "N = inputs.shape[0]\n",
    "\n",
    "permute = list(range(N))\n",
    "\n",
    "random.shuffle(permute)\n",
    "\n",
    "inputs = inputs[permute, :]\n",
    "\n",
    "targets = targets[permute]\n"
   ]
  },
  {
   "cell_type": "code",
   "execution_count": 3,
   "metadata": {},
   "outputs": [],
   "source": [
    "##test simple points\n",
    "\n",
    "#inputs = ([1, 0.5],[-1, -0.5])\n",
    "#targets = (1, -1)\n",
    "#N = 2"
   ]
  },
  {
   "cell_type": "code",
   "execution_count": 4,
   "metadata": {},
   "outputs": [],
   "source": [
    "# kernel functions\n",
    "def linearKernel(x,y):\n",
    "    return np.dot(x,y)\n",
    "\n",
    "def polyKernel(x,y,p=3):\n",
    "    return np.power((np.dot(x,y)+1),p)   \n",
    "\n",
    "def RBFKernel(x,y,sigma=2):\n",
    "    return math.exp(-math.pow(np.linalg.norm(np.subtract(x, y)), 2)/(2 * math.pow(sigma, 2)))\n",
    "    #d = np.subtract(x, y)\n",
    "   # return math.exp(-(np.dot(d, d))/(2 * math.pow(sigma, 2)))\n"
   ]
  },
  {
   "cell_type": "code",
   "execution_count": 41,
   "metadata": {},
   "outputs": [],
   "source": [
    "Kernel = RBFKernel  # we can change the kernerl here.\n",
    "\n",
    "P = np.zeros((N,N))\n",
    "\n",
    "for i in range(N):\n",
    "    for j in range(N):\n",
    "        P[i, j] = targets[i] * targets[j] * Kernel(inputs[i], inputs[j])\n",
    "        "
   ]
  },
  {
   "cell_type": "code",
   "execution_count": 42,
   "metadata": {},
   "outputs": [],
   "source": [
    "def objective(a):\n",
    "    cost = 0.5*np.dot(a,np.dot(a,P))-np.sum(a)\n",
    "    return cost\n",
    "\n",
    "def zerofun(a):\n",
    "    return np.dot(a, targets)"
   ]
  },
  {
   "cell_type": "code",
   "execution_count": 49,
   "metadata": {},
   "outputs": [
    {
     "data": {
      "text/plain": [
       "[(2.906068290636977, array([-1.5157318 ,  0.38358686]), 1.0),\n",
       " (8.822833884376918, array([1.26078603, 0.41880797]), 1.0),\n",
       " (11.728902175013888, array([ 0.51495184, -0.28535734]), -1.0)]"
      ]
     },
     "execution_count": 49,
     "metadata": {},
     "output_type": "execute_result"
    }
   ],
   "source": [
    "C = 1000  # we can change the value of C here.\n",
    "\n",
    "start = np.zeros(N)\n",
    "\n",
    "#B = [(0, None) for b in range(N)]\n",
    "\n",
    "##using slack\n",
    "B = [(0, C) for b in range(N)]\n",
    "\n",
    "XC = {'type':'eq', 'fun': zerofun}\n",
    "\n",
    "ret = minimize(objective, start, bounds=B, constraints=XC)\n",
    "alpha = ret['x']\n",
    "\n",
    "#nonzero = [(alpha[i], inputs[i], targets[i]) for i in range(N) if abs(alpha[i]) > 10e-5]\n",
    "\n",
    "## using slack\n",
    "nonzero = [(alpha[i], inputs[i], targets[i]) for i in range(N) if abs(alpha[i]) > 10e-5 and abs(alpha[i])<C]\n",
    "\n",
    "nonzero\n"
   ]
  },
  {
   "cell_type": "code",
   "execution_count": 50,
   "metadata": {},
   "outputs": [],
   "source": [
    "def bValue():\n",
    "    bsum = 0\n",
    "    for item in nonzero:\n",
    "        bsum += item[0] * item[2] * Kernel(item[1], nonzero[1][1])\n",
    "    return bsum - nonzero[1][2]\n",
    "        \n",
    "def indicator(x, y, b):\n",
    "    totsum = 0\n",
    "    for item in nonzero:\n",
    "        totsum += item[0] * item[2] * Kernel([x, y], item[1])\n",
    "    return totsum - b"
   ]
  },
  {
   "cell_type": "code",
   "execution_count": 51,
   "metadata": {},
   "outputs": [
    {
     "data": {
      "image/png": "[encoded data removed]",
      "text/plain": [
       "<Figure size 432x288 with 1 Axes>"
      ]
     },
     "metadata": {
      "needs_background": "light"
     },
     "output_type": "display_data"
    }
   ],
   "source": [
    "plt.plot([p[0] for p in classA], [p[1] for p in classA], 'b.')\n",
    "plt.plot([p[0] for p in classB], [p[1] for p in classB], 'r.')\n",
    "\n",
    "#test simple points\n",
    "#plt.plot([i[0] for i in inputs], [i[1] for i in inputs], 'b.')\n",
    "\n",
    "b = bValue()\n",
    "xgrid = np.linspace(-3, 3)\n",
    "ygrid = np.linspace(-2, 2)\n",
    "grid = np.array([[indicator(x,y,b) for x in xgrid] for y in ygrid])\n",
    "\n",
    "plt.contour(xgrid, ygrid, grid, \n",
    "           (-1.0, 0.0, 1.0),\n",
    "           colors=('red', 'black', 'blue'),\n",
    "           linewidths=(1, 3, 1))\n",
    "\n",
    "plt.axis('equal')\n",
    "#plt.savefig('svmplot-RBF-C4-SIGMA10.pdf')\n",
    "plt.xlabel('x1')\n",
    "plt.ylabel('x2')\n",
    "plt.title('SVM classification')\n",
    "plt.show()"
   ]
  },
  {
   "cell_type": "code",
   "execution_count": null,
   "metadata": {},
   "outputs": [],
   "source": []
  },
  {
   "cell_type": "code",
   "execution_count": null,
   "metadata": {},
   "outputs": [],
   "source": []
  }
 ],
 "metadata": {
  "kernelspec": {
   "display_name": "Python 3",
   "language": "python",
   "name": "python3"
  },
  "language_info": {
   "codemirror_mode": {
    "name": "ipython",
    "version": 3
   },
   "file_extension": ".py",
   "mimetype": "text/x-python",
   "name": "python",
   "nbconvert_exporter": "python",
   "pygments_lexer": "ipython3",
   "version": "3.7.1"
  }
 },
 "nbformat": 4,
 "nbformat_minor": 2
}
