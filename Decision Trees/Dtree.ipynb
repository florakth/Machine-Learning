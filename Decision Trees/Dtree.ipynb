{
 "cells": [
  {
   "cell_type": "code",
   "execution_count": 1,
   "metadata": {},
   "outputs": [],
   "source": [
    "import monkdata as m\n",
    "import dtree as DT"
   ]
  },
  {
   "cell_type": "code",
   "execution_count": 2,
   "metadata": {},
   "outputs": [],
   "source": [
    "## Assignment1"
   ]
  },
  {
   "cell_type": "code",
   "execution_count": 3,
   "metadata": {},
   "outputs": [
    {
     "data": {
      "text/plain": [
       "1.0"
      ]
     },
     "execution_count": 3,
     "metadata": {},
     "output_type": "execute_result"
    }
   ],
   "source": [
    "DT.entropy(m.monk1)"
   ]
  },
  {
   "cell_type": "code",
   "execution_count": 4,
   "metadata": {},
   "outputs": [
    {
     "data": {
      "text/plain": [
       "0.957117428264771"
      ]
     },
     "execution_count": 4,
     "metadata": {},
     "output_type": "execute_result"
    }
   ],
   "source": [
    "DT.entropy(m.monk2)"
   ]
  },
  {
   "cell_type": "code",
   "execution_count": 5,
   "metadata": {},
   "outputs": [
    {
     "data": {
      "text/plain": [
       "0.9998061328047111"
      ]
     },
     "execution_count": 5,
     "metadata": {},
     "output_type": "execute_result"
    }
   ],
   "source": [
    "DT.entropy(m.monk3)"
   ]
  },
  {
   "cell_type": "code",
   "execution_count": 6,
   "metadata": {},
   "outputs": [],
   "source": [
    "#Assignment3"
   ]
  },
  {
   "cell_type": "code",
   "execution_count": 7,
   "metadata": {},
   "outputs": [
    {
     "name": "stdout",
     "output_type": "stream",
     "text": [
      "0.07527255560831925\n",
      "0.005838429962909286\n",
      "0.00470756661729721\n",
      "0.02631169650768228\n",
      "0.28703074971578435\n",
      "0.0007578557158638421\n"
     ]
    }
   ],
   "source": [
    "for i in range(6):\n",
    "    print(DT.averageGain(m.monk1, m.attributes[i]))"
   ]
  },
  {
   "cell_type": "code",
   "execution_count": 8,
   "metadata": {},
   "outputs": [
    {
     "name": "stdout",
     "output_type": "stream",
     "text": [
      "0.0037561773775118823\n",
      "0.0024584986660830532\n",
      "0.0010561477158920196\n",
      "0.015664247292643818\n",
      "0.01727717693791797\n",
      "0.006247622236881467\n"
     ]
    }
   ],
   "source": [
    "for i in range(6):\n",
    "    print(DT.averageGain(m.monk2, m.attributes[i]))"
   ]
  },
  {
   "cell_type": "code",
   "execution_count": 9,
   "metadata": {},
   "outputs": [
    {
     "name": "stdout",
     "output_type": "stream",
     "text": [
      "0.007120868396071844\n",
      "0.29373617350838865\n",
      "0.0008311140445336207\n",
      "0.002891817288654397\n",
      "0.25591172461972755\n",
      "0.007077026074097326\n"
     ]
    }
   ],
   "source": [
    "for i in range(6):\n",
    "    print(DT.averageGain(m.monk3, m.attributes[i]))"
   ]
  },
  {
   "cell_type": "code",
   "execution_count": 10,
   "metadata": {},
   "outputs": [],
   "source": [
    "# Assignment5"
   ]
  },
  {
   "cell_type": "code",
   "execution_count": 11,
   "metadata": {},
   "outputs": [
    {
     "name": "stdout",
     "output_type": "stream",
     "text": [
      "1.0\n",
      "0.8287037037037037\n",
      "A5(+A4(A1(A2(+--)A2(-++)A2(--+))A2(-+-)A3(A1(A2(+--)+A2(-++))A2(--A1(--+))))A6(A4(A3(A1(A2(+--)A2(-+-)-)-)A1(A2(+--)--)-)A3(A4(A1(+--)A1(-++)+)A1(-A2(-+-)A2(--+))))A1(A2(+--)A2(-+-)A2(+-+)))\n"
     ]
    }
   ],
   "source": [
    "# full tree 1\n",
    "import monkdata as m\n",
    "import dtree as d\n",
    "t = d.buildTree(m.monk1, m.attributes) \n",
    "\n",
    "print(d.check(t, m.monk1))\n",
    "print(d.check(t, m.monk1test))\n",
    "print(t)"
   ]
  },
  {
   "cell_type": "code",
   "execution_count": 12,
   "metadata": {},
   "outputs": [
    {
     "name": "stdout",
     "output_type": "stream",
     "text": [
      "1.0\n",
      "0.6921296296296297\n"
     ]
    }
   ],
   "source": [
    "# full tree 2\n",
    "import monkdata as m\n",
    "import dtree as d\n",
    "t = d.buildTree(m.monk2, m.attributes) \n",
    "\n",
    "print(d.check(t, m.monk2))\n",
    "print(d.check(t, m.monk2test))"
   ]
  },
  {
   "cell_type": "code",
   "execution_count": 13,
   "metadata": {},
   "outputs": [
    {
     "name": "stdout",
     "output_type": "stream",
     "text": [
      "1.0\n",
      "0.9444444444444444\n"
     ]
    }
   ],
   "source": [
    "# full tree 3\n",
    "import monkdata as m\n",
    "import dtree as d\n",
    "t = d.buildTree(m.monk3, m.attributes) \n",
    "\n",
    "print(d.check(t, m.monk3))\n",
    "print(d.check(t, m.monk3test))"
   ]
  },
  {
   "cell_type": "code",
   "execution_count": 14,
   "metadata": {},
   "outputs": [],
   "source": [
    "# select the attribute a5!=1 to split the data\n",
    "data1 = d.select(m.monk1, m.attributes[4], 2 or 3 or 4)\n"
   ]
  },
  {
   "cell_type": "code",
   "execution_count": 15,
   "metadata": {},
   "outputs": [
    {
     "name": "stdout",
     "output_type": "stream",
     "text": [
      "0.040216841609413634\n",
      "0.015063475072186083\n",
      "0.03727262736015946\n",
      "0.04889220262952931\n",
      "0.0\n",
      "0.025807284723902146\n"
     ]
    }
   ],
   "source": [
    "#cacullate the info gain for other attributes(a1,a2,a3,a4,a6)\n",
    "for i in range(6):\n",
    "    print(d.averageGain(data1, m.attributes[i]))"
   ]
  },
  {
   "cell_type": "code",
   "execution_count": 16,
   "metadata": {},
   "outputs": [
    {
     "name": "stdout",
     "output_type": "stream",
     "text": [
      "A5(+A4(---)A6(--)A1(--+))\n",
      "0.7580645161290323\n",
      "0.7222222222222222\n"
     ]
    }
   ],
   "source": [
    "#Build the tree with the first two levels\n",
    "def buildTree2(dataset, attributes, maxdepth=2):\n",
    "    \"Recursively build a decision tree\"\n",
    "\n",
    "    def buildBranch(dataset, default, attributes):\n",
    "        if not dataset:\n",
    "            return d.TreeLeaf(default)\n",
    "        if d.allPositive(dataset):\n",
    "            return d.TreeLeaf(True)\n",
    "        if d.allNegative(dataset):\n",
    "            return d.TreeLeaf(False)\n",
    "        return buildTree2(dataset, attributes, maxdepth-1)\n",
    "\n",
    "    default = d.mostCommon(dataset)\n",
    "    if maxdepth < 1:\n",
    "        return d.TreeLeaf(default)\n",
    "    a = d.bestAttribute(dataset, attributes)\n",
    "    attributesLeft = [x for x in attributes if x != a]\n",
    "    branches = [(v, buildBranch(d.select(dataset, a, v), default, attributesLeft))\n",
    "                for v in a.values]\n",
    "    return d.TreeNode(a, dict(branches), default)\n",
    "\n",
    "t = buildTree2(m.monk1, m.attributes) \n",
    "#draw.drawTree(t)\n",
    "print(t)\n",
    "print(d.check(t, m.monk1))\n",
    "print(d.check(t, m.monk1test))"
   ]
  },
  {
   "cell_type": "code",
   "execution_count": 17,
   "metadata": {},
   "outputs": [],
   "source": [
    "#Assignment7"
   ]
  },
  {
   "cell_type": "code",
   "execution_count": 22,
   "metadata": {},
   "outputs": [],
   "source": [
    "# dividing the original training data to traning and validation data\n",
    "import random\n",
    "\n",
    "def partition(data, fraction):\n",
    "    ldata = list(data)\n",
    "    random.shuffle(ldata)\n",
    "    breakPoint = int(len(ldata) * fraction)\n",
    "    return ldata[: breakPoint], ldata[breakPoint :]\n",
    "\n",
    "monk1train, monk1val = partition(m.monk1, 0.6)\n"
   ]
  },
  {
   "cell_type": "code",
   "execution_count": 23,
   "metadata": {},
   "outputs": [],
   "source": [
    "# get a best pruning for each partition.\n",
    "def bestPruning(data, testing):\n",
    "    \n",
    "    fractions = [0.3, 0.4, 0.5, 0.6, 0.7, 0.8]\n",
    "    list_alt = []\n",
    "\n",
    "    for fraction in fractions:\n",
    "        train, val = partition(data, fraction)\n",
    "        tree = d.buildTree(train, m.attributes)\n",
    "        alternatives = d.allPruned(tree)\n",
    "\n",
    "        best_perform = d.check(tree, val)\n",
    "        best_tree = tree\n",
    "\n",
    "        for alternative in alternatives:\n",
    "            cur_perform = d.check(alternative, val)\n",
    "            if best_perform < cur_perform:\n",
    "                best_perform = cur_perform\n",
    "                best_tree = alternative\n",
    "\n",
    "        list_alt.append(1 - d.check(best_tree, testing))\n",
    "    return list_alt\n"
   ]
  },
  {
   "cell_type": "code",
   "execution_count": 20,
   "metadata": {},
   "outputs": [
    {
     "data": {
      "text/plain": [
       "array([0.05552914, 0.03848452, 0.03436317, 0.03190274, 0.02744272,\n",
       "       0.03331113])"
      ]
     },
     "execution_count": 20,
     "metadata": {},
     "output_type": "execute_result"
    }
   ],
   "source": [
    "# get the mean and Std for random data\n",
    "import numpy as np\n",
    "\n",
    "monk1_pruned = []\n",
    "monk3_pruned = []\n",
    "\n",
    "for i in range(200):\n",
    "        \n",
    "    monk1_pruned.append(bestPruning(m.monk1, m.monk1test))\n",
    "    monk3_pruned.append(bestPruning(m.monk3, m.monk3test))\n",
    "\n",
    "monk1_pruned = np.transpose(monk1_pruned)\n",
    "monk3_pruned = np.transpose(monk3_pruned)\n",
    "\n",
    "monk1Mean = np.mean(monk1_pruned, axis=1)\n",
    "\n",
    "monk3Mean = np.mean(monk3_pruned, axis=1)\n",
    "\n",
    "monk1Std = np.std(monk1_pruned, axis=1)\n",
    "\n",
    "monk3Std = np.std(monk3_pruned, axis=1)\n",
    " \n",
    "monk1Mean\n",
    "monk3Std"
   ]
  },
  {
   "cell_type": "code",
   "execution_count": 25,
   "metadata": {},
   "outputs": [
    {
     "data": {
      "image/png": "[encoded data removed]",
      "text/plain": [
       "<Figure size 432x288 with 2 Axes>"
      ]
     },
     "metadata": {
      "needs_background": "light"
     },
     "output_type": "display_data"
    }
   ],
   "source": [
    "#draw figures for each\n",
    "import matplotlib.pyplot as plt\n",
    "import numpy as np\n",
    "%matplotlib inline\n",
    "\n",
    "fractions = [0.3, 0.4, 0.5, 0.6, 0.7, 0.8]\n",
    "\n",
    "x1 = np.array(fractions)\n",
    "y1 = monk1Mean\n",
    "e1 = monk1Std\n",
    "\n",
    "y2 = monk3Mean\n",
    "e2 = monk3Std\n",
    "\n",
    "fig, (ax0, ax1) = plt.subplots(nrows=2, sharex=True)\n",
    "\n",
    "ax0.errorbar(x1, y1, yerr=e1, fmt='*', label= 'Mean and Std')\n",
    "ax0.set_title('Mean and Std for monk1')\n",
    "\n",
    "plt.ylabel('Error rate')\n",
    "\n",
    "ax1.errorbar(x1, y2, yerr=e2, fmt='*', label= 'Mean and Std')\n",
    "ax1.set_title('Mean and Std for monk3')\n",
    "\n",
    "plt.xlabel('Partition')\n",
    "\n",
    "ax0.legend()\n",
    "ax1.legend()\n",
    "plt.show()"
   ]
  },
  {
   "cell_type": "code",
   "execution_count": null,
   "metadata": {},
   "outputs": [],
   "source": []
  },
  {
   "cell_type": "code",
   "execution_count": null,
   "metadata": {},
   "outputs": [],
   "source": []
  },
  {
   "cell_type": "code",
   "execution_count": null,
   "metadata": {},
   "outputs": [],
   "source": []
  }
 ],
 "metadata": {
  "kernelspec": {
   "display_name": "Python 3",
   "language": "python",
   "name": "python3"
  },
  "language_info": {
   "codemirror_mode": {
    "name": "ipython",
    "version": 3
   },
   "file_extension": ".py",
   "mimetype": "text/x-python",
   "name": "python",
   "nbconvert_exporter": "python",
   "pygments_lexer": "ipython3",
   "version": "3.7.1"
  }
 },
 "nbformat": 4,
 "nbformat_minor": 2
}
